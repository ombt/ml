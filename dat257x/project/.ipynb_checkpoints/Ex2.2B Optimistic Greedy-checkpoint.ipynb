{
  "cells": [
    {
      "metadata": {},
      "cell_type": "markdown",
      "source": "# DAT257x: Reinforcement Learning Explained\n\n## Lab 2: Bandits\n\n### Exercise 2.2B: Optimistic Greedy"
    },
    {
      "metadata": {
        "collapsed": true,
        "trusted": false
      },
      "cell_type": "code",
      "source": "import numpy as np\nimport sys\n\nif \"../\" not in sys.path:\n    sys.path.append(\"../\") \n\nfrom lib.envs.bandit import BanditEnv\nfrom lib.simulation import Experiment",
      "execution_count": null,
      "outputs": []
    },
    {
      "metadata": {
        "collapsed": true,
        "trusted": false
      },
      "cell_type": "code",
      "source": "#Policy interface\nclass Policy:\n    #num_actions: (int) Number of arms [indexed by 0 ... num_actions-1]\n    def __init__(self, num_actions):\n        self.num_actions = num_actions\n    \n    def act(self):\n        pass\n        \n    def feedback(self, action, reward):\n        pass",
      "execution_count": null,
      "outputs": []
    },
    {
      "metadata": {
        "collapsed": true,
        "trusted": false
      },
      "cell_type": "code",
      "source": "#Greedy policy\nclass Greedy(Policy):\n    def __init__(self, num_actions):\n        Policy.__init__(self, num_actions)\n        self.name = \"Greedy\"\n        self.total_rewards = np.zeros(num_actions, dtype = np.longdouble)\n        self.total_counts = np.zeros(num_actions, dtype = np.longdouble)\n    \n    def act(self):\n        current_averages = np.divide(self.total_rewards, self.total_counts, where = self.total_counts > 0)\n        current_averages[self.total_counts <= 0] = 0.5      #Correctly handles Bernoulli rewards; over-estimates otherwise\n        current_action = np.argmax(current_averages)\n        return current_action\n        \n    def feedback(self, action, reward):\n        self.total_rewards[action] += reward\n        self.total_counts[action] += 1",
      "execution_count": null,
      "outputs": []
    },
    {
      "metadata": {},
      "cell_type": "markdown",
      "source": "Now let's implement an optimistic greedy policy based on the policy interface. The optimistic greedy policy initialize the ra to a large initial value R, which is implemented in the __init__() function, and then play the greedy algorithm."
    },
    {
      "metadata": {},
      "cell_type": "markdown",
      "source": "We have given you some boiler plate code, you only need to modify the part as indicated."
    },
    {
      "metadata": {
        "trusted": true
      },
      "cell_type": "code",
      "source": "#Optimistic Greedy policy\nclass OptimisticGreedy(Greedy):\n    def __init__(self, num_actions, initial_value):\n        Greedy.__init__(self, num_actions)\n        self.name = \"Optimistic Greedy\"\n        \n        \"\"\"Implement optimistic greedy here\"\"\"\n        self.total_rewards = np.full(num_actions, initial_value, dtype = np.longdouble)\n        self.total_counts = np.zeros(num_actions, dtype = np.longdouble)\n        \n        ",
      "execution_count": 1,
      "outputs": [
        {
          "output_type": "error",
          "ename": "NameError",
          "evalue": "name 'Greedy' is not defined",
          "traceback": [
            "\u001b[0;31m---------------------------------------------------------------------------\u001b[0m",
            "\u001b[0;31mNameError\u001b[0m                                 Traceback (most recent call last)",
            "\u001b[0;32m<ipython-input-1-f91928b80032>\u001b[0m in \u001b[0;36m<module>\u001b[0;34m()\u001b[0m\n\u001b[1;32m      1\u001b[0m \u001b[0;31m#Optimistic Greedy policy\u001b[0m\u001b[0;34m\u001b[0m\u001b[0;34m\u001b[0m\u001b[0m\n\u001b[0;32m----> 2\u001b[0;31m \u001b[0;32mclass\u001b[0m \u001b[0mOptimisticGreedy\u001b[0m\u001b[0;34m(\u001b[0m\u001b[0mGreedy\u001b[0m\u001b[0;34m)\u001b[0m\u001b[0;34m:\u001b[0m\u001b[0;34m\u001b[0m\u001b[0m\n\u001b[0m\u001b[1;32m      3\u001b[0m     \u001b[0;32mdef\u001b[0m \u001b[0m__init__\u001b[0m\u001b[0;34m(\u001b[0m\u001b[0mself\u001b[0m\u001b[0;34m,\u001b[0m \u001b[0mnum_actions\u001b[0m\u001b[0;34m,\u001b[0m \u001b[0minitial_value\u001b[0m\u001b[0;34m)\u001b[0m\u001b[0;34m:\u001b[0m\u001b[0;34m\u001b[0m\u001b[0m\n\u001b[1;32m      4\u001b[0m         \u001b[0mGreedy\u001b[0m\u001b[0;34m.\u001b[0m\u001b[0m__init__\u001b[0m\u001b[0;34m(\u001b[0m\u001b[0mself\u001b[0m\u001b[0;34m,\u001b[0m \u001b[0mnum_actions\u001b[0m\u001b[0;34m)\u001b[0m\u001b[0;34m\u001b[0m\u001b[0m\n\u001b[1;32m      5\u001b[0m         \u001b[0mself\u001b[0m\u001b[0;34m.\u001b[0m\u001b[0mname\u001b[0m \u001b[0;34m=\u001b[0m \u001b[0;34m\"Optimistic Greedy\"\u001b[0m\u001b[0;34m\u001b[0m\u001b[0m\n",
            "\u001b[0;31mNameError\u001b[0m: name 'Greedy' is not defined"
          ]
        }
      ]
    },
    {
      "metadata": {},
      "cell_type": "markdown",
      "source": "Let's prepare the simulation. We'll use the same parameters as the exercise with the epsilon greedy."
    },
    {
      "metadata": {
        "collapsed": true,
        "trusted": false
      },
      "cell_type": "code",
      "source": "evaluation_seed = 5016\nnum_actions = 10\ntrials = 10000\ndistribution = \"bernoulli\"",
      "execution_count": null,
      "outputs": []
    },
    {
      "metadata": {},
      "cell_type": "markdown",
      "source": "First, let's use R = 0. Run the simulation and observe the results."
    },
    {
      "metadata": {
        "collapsed": true,
        "trusted": false
      },
      "cell_type": "code",
      "source": "R = 0\nenv = BanditEnv(num_actions, distribution, evaluation_seed)\nagent = OptimisticGreedy(num_actions, R)\nexperiment = Experiment(env, agent)\nexperiment.run_bandit(trials)",
      "execution_count": null,
      "outputs": []
    },
    {
      "metadata": {},
      "cell_type": "markdown",
      "source": "What about if R is a very large number? Say 10000, the same number as the number of trials? Run the simulation again and observe the results."
    },
    {
      "metadata": {},
      "cell_type": "markdown",
      "source": "Now, try several different number of R (1, 3, 5). Run the simulations and observe the results."
    },
    {
      "metadata": {},
      "cell_type": "markdown",
      "source": "Which epsilon performs best with this problem?"
    },
    {
      "metadata": {},
      "cell_type": "markdown",
      "source": "Now let's prepare another simulation by setting a different seed. "
    },
    {
      "metadata": {
        "collapsed": true,
        "trusted": false
      },
      "cell_type": "code",
      "source": "evaluation_seed = 1239\nnum_actions = 10\ntrials = 10000\ndistribution = \"bernoulli\"",
      "execution_count": null,
      "outputs": []
    },
    {
      "metadata": {},
      "cell_type": "markdown",
      "source": "Try the range of R again (0, 1, 3, 5, 10000), run the simulations and observe the results."
    },
    {
      "metadata": {
        "collapsed": true,
        "trusted": false
      },
      "cell_type": "code",
      "source": "",
      "execution_count": null,
      "outputs": []
    }
  ],
  "metadata": {
    "kernelspec": {
      "name": "python3",
      "display_name": "Python 3",
      "language": "python"
    },
    "language_info": {
      "mimetype": "text/x-python",
      "nbconvert_exporter": "python",
      "name": "python",
      "file_extension": ".py",
      "version": "3.5.4",
      "pygments_lexer": "ipython3",
      "codemirror_mode": {
        "version": 3,
        "name": "ipython"
      }
    }
  },
  "nbformat": 4,
  "nbformat_minor": 2
}